{
 "cells": [
  {
   "cell_type": "markdown",
   "metadata": {},
   "source": [
    "2장. 자료형"
   ]
  },
  {
   "cell_type": "code",
   "execution_count": 1,
   "metadata": {},
   "outputs": [],
   "source": [
    "# 숫자형"
   ]
  },
  {
   "cell_type": "code",
   "execution_count": 4,
   "metadata": {},
   "outputs": [
    {
     "name": "stdout",
     "output_type": "stream",
     "text": [
      "123 -80 0\n"
     ]
    }
   ],
   "source": [
    "#정수형\n",
    "a = 123\n",
    "b = -80\n",
    "c = 0\n",
    "print(a,b,c)"
   ]
  },
  {
   "cell_type": "code",
   "execution_count": 6,
   "metadata": {},
   "outputs": [
    {
     "name": "stdout",
     "output_type": "stream",
     "text": [
      "1.2 -3.14\n",
      "42400000000.0 42400000000.0 0.424\n"
     ]
    }
   ],
   "source": [
    "#실수형(floating-point)\n",
    "a = 1.2\n",
    "b = -3.14\n",
    "print(a,b)\n",
    "\n",
    "#컴퓨터식 지수 표현 방식\n",
    "\"\"\" 곱하기 10의 몇 자승을 해주는 기호다. e와 E는 같다. \"\"\"\n",
    "a = 4.24E10\n",
    "b = 4.24e10\n",
    "c = 4.24e-1\n",
    "print(a,b,c)"
   ]
  },
  {
   "cell_type": "code",
   "execution_count": 8,
   "metadata": {},
   "outputs": [
    {
     "name": "stdout",
     "output_type": "stream",
     "text": [
      "127\n",
      "2303 2748\n"
     ]
    }
   ],
   "source": [
    "#8진수(Octal)\n",
    "\"\"\"0o 또는 0O 로 시작하면 된다 (숫자 0 + 알파벳 o)\"\"\"\n",
    "a = 0o177\n",
    "print(a)\n",
    "\n",
    "#16진수(Hexadecimal)\n",
    "\"\"\"0x로 시작하면 된다.\"\"\"\n",
    "a = 0x8ff\n",
    "b = 0XABC\n",
    "print(a,b)\n",
    "\n",
    "\"\"\"프린트 되는 값은 10진수로 변환되서 보여진다\"\"\""
   ]
  },
  {
   "cell_type": "code",
   "execution_count": 9,
   "metadata": {},
   "outputs": [],
   "source": [
    "#숫자형을 활용하기 위한 연산자"
   ]
  },
  {
   "cell_type": "code",
   "execution_count": 12,
   "metadata": {},
   "outputs": [
    {
     "name": "stdout",
     "output_type": "stream",
     "text": [
      "7\n",
      "-1\n",
      "12\n",
      "0.75\n"
     ]
    }
   ],
   "source": [
    "#사칙연산자\n",
    "a = 3\n",
    "b = 4\n",
    "print(a + b) # 더하기\n",
    "print(a - b) # 빼기\n",
    "print(a * b) # 곱하기\n",
    "print(a / b) # 나누기 "
   ]
  },
  {
   "cell_type": "code",
   "execution_count": 21,
   "metadata": {},
   "outputs": [
    {
     "name": "stdout",
     "output_type": "stream",
     "text": [
      "81\n",
      "1\n",
      "2\n",
      "-3\n"
     ]
    }
   ],
   "source": [
    "#제곱 연산자\n",
    "print(a**4)\n",
    "\n",
    "#나머지 (나눗셈후)\n",
    "print(7 % 3)\n",
    "\n",
    "#몫만을 반환하는 연산자\n",
    "print(7 // 3)\n",
    "print(-7 // 3)"
   ]
  },
  {
   "cell_type": "code",
   "execution_count": 22,
   "metadata": {},
   "outputs": [
    {
     "data": {
      "text/plain": [
       "-2.3333333333333335"
      ]
     },
     "execution_count": 22,
     "metadata": {},
     "output_type": "execute_result"
    }
   ],
   "source": [
    "-7 / 3"
   ]
  },
  {
   "cell_type": "code",
   "execution_count": null,
   "metadata": {},
   "outputs": [],
   "source": []
  }
 ],
 "metadata": {
  "kernelspec": {
   "display_name": "Python 3",
   "language": "python",
   "name": "python3"
  },
  "language_info": {
   "codemirror_mode": {
    "name": "ipython",
    "version": 3
   },
   "file_extension": ".py",
   "mimetype": "text/x-python",
   "name": "python",
   "nbconvert_exporter": "python",
   "pygments_lexer": "ipython3",
   "version": "3.6.9"
  }
 },
 "nbformat": 4,
 "nbformat_minor": 2
}
